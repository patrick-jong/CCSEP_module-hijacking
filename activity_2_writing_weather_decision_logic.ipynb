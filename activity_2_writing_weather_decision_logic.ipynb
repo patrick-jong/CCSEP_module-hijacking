{
  "cells": [
    {
      "cell_type": "markdown",
      "metadata": {
        "id": "view-in-github",
        "colab_type": "text"
      },
      "source": [
        "<a href=\"https://colab.research.google.com/github/patrick-jong/CCSEP_module-hijacking/blob/main/activity_2_writing_weather_decision_logic.ipynb\" target=\"_parent\"><img src=\"https://colab.research.google.com/assets/colab-badge.svg\" alt=\"Open In Colab\"/></a>"
      ]
    },
    {
      "cell_type": "markdown",
      "metadata": {
        "id": "ahz6kOXUAePL"
      },
      "source": [
        "# Activity 2: Writing Weather Decision Logic\n",
        "\n",
        "## Overview\n",
        "\n",
        "In this activity you will write code that uses if-else statements to provide a weather forecast based on the user's menu selection.  \n",
        "For example, if the user selects \"Check Temperature\", your program should prompt them to enter the current temperature and then use nested if-else statements to display messages such as \"It’s cold – wear a jacket\" or \"It’s warm – enjoy the day!\"  \n",
        "This exercise will help you practise writing nested if-else statements and understanding logical comparisons.\n",
        "\n",
        "\n",
        "> **Advanced Concept:** In previous activities, we've written simple programs that execute one line after another, which is known as \"sequence\"—a fundamental building block of programming. This week, we introduce the if-else statement, which allows the program to decide which block of code to execute based on conditions. This decision-making process is called \"selection\" and is another essential concept in building dynamic and interactive programs.\n",
        "\n",
        "> **Note:** Remember that the input() function always returns a string. This means that even if the user types a number, it is read as a string. To perform numerical comparisons, you must convert the input to a number using int() (or float())."
      ]
    },
    {
      "cell_type": "markdown",
      "metadata": {
        "id": "shmp2ZbpAePM"
      },
      "source": [
        "---\n",
        "\n",
        "### Step 1: Capture the User's Menu Selection\n",
        "\n",
        "First, we need to capture the user's choice from the weather menu.  \n",
        "In this example, we will assume that the user has already selected \"Check Temperature\"."
      ]
    },
    {
      "cell_type": "code",
      "execution_count": null,
      "metadata": {
        "id": "l8MxZgQ_AePN"
      },
      "outputs": [],
      "source": [
        "# For the purpose of this activity, we simulate a user choice.\n",
        "# In a complete program, you might capture this using input() from a menu.\n",
        "user_choice = \"1\"  # \"1\" corresponds to \"Check Temperature\"\n",
        "print(\"User selected option:\", user_choice)"
      ]
    },
    {
      "cell_type": "raw",
      "metadata": {
        "id": "VryPA9GaAePN"
      },
      "source": [
        "> **Note:** Simulating the user choice is useful for testing your decision logic without building the entire menu interface yet.\n",
        "\n",
        "> **AI Prompt:** If you need more ideas on how to simulate user choices, ask, \"What are some ways to test if-else logic without a full user interface in Python?\"\n",
        "\n",
        "---"
      ]
    },
    {
      "cell_type": "markdown",
      "metadata": {
        "id": "qoSHTI7iAePN"
      },
      "source": [
        "### Step 2: Write the Weather Forecast Logic\n",
        "\n",
        "Now, let's write the code that uses if-else statements to provide a weather forecast based on the temperature.  \n",
        "If the user has selected \"Check Temperature\", prompt them for the current temperature and output a message depending on the value."
      ]
    },
    {
      "cell_type": "code",
      "execution_count": null,
      "metadata": {
        "id": "Rqqgcu-pAePN"
      },
      "outputs": [],
      "source": [
        "if user_choice == \"1\":\n",
        "    # Ask the user for the current temperature\n",
        "    temp_input = input(\"Enter the current temperature (in °C): \")\n",
        "\n",
        "    # Since we assume the user enters a valid number, convert the input into an integer.\n",
        "    # Remember: input() returns a string, so we use int() to convert it.\n",
        "    temperature = int(temp_input)\n",
        "\n",
        "    # Provide a weather forecast based on the temperature using nested if-else\n",
        "    if temperature < 15:\n",
        "        print(\"It's cold – wear a jacket!\")\n",
        "    elif 15 <= temperature < 25:\n",
        "        print(\"It's warm – enjoy the day!\")\n",
        "    else:\n",
        "        print(\"It's hot – stay cool!\")"
      ]
    },
    {
      "cell_type": "markdown",
      "metadata": {
        "id": "WHiJYXx-AePN"
      },
      "source": [
        "> **Tip:** We assume that the user will type the correct input. If you ask for a number, then a number (as a string) is expected. Converting the string to an integer using int() is essential for numerical comparisons.\n",
        "\n",
        "> **Tip:** In Python, after you write a colon (:) in statements like if or else, you indent the following lines. This indentation creates a \"block\" of code. The if-else statement then decides which block to run based on the condition, so proper indentation is essential to define what code belongs to which condition.\n",
        "\n",
        "> **Tip:** Although not shown in this example, you can nest if-else statements. This means that a block of code selected by an if-else can itself contain another if-else. Nested if-else statements allow you to handle multiple conditions in a clear and organised way, making your decision logic easier to follow.  \n",
        "\n",
        "> **Note:** It's most important to know that you can nest if-else statements. You'll see when more complex problems arise and as you interact with AI tools. For now, just have an intuitive understanding that if-else statements can be placed inside one another.\n",
        "\n",
        "> **AI Prompt:** If you’re unsure about why we need to convert the input, ask, \"Why do we need to use int() when reading numeric input in Python?\"\n",
        "\n",
        "> **AI Tip:** When asking AI about converting user input to a number, the example code may include a try-except structure. This is discussed later in the semester, so for now, ask a follow-up question or ask the AI to remove the try-except structure since we assume the user will provide valid input. Make sure you understand what the AI is providing—you’re building your understanding, not just copying code."
      ]
    },
    {
      "cell_type": "raw",
      "metadata": {
        "id": "skViyX2wAePO"
      },
      "source": [
        "---\n",
        "\n",
        "### Step 3: Sample Code Walkthrough\n",
        "\n",
        "Let's trace through the code with sample inputs:\n",
        "\n",
        "- **Case 1: Temperature = 10°C**\n",
        "  The program will print: \"It's cold – wear a jacket!\"\n",
        "\n",
        "- **Case 2: Temperature = 20°C**\n",
        "  The program will print: \"It's warm – enjoy the day!\"\n",
        "\n",
        "- **Case 3: Temperature = 30°C**\n",
        "  The program will print: \"It's hot – stay cool!\"\n",
        "\n",
        "> **Note:** Running your code with different sample inputs helps ensure that all branches of your if-else logic work as expected.\n",
        "\n",
        "---"
      ]
    },
    {
      "cell_type": "markdown",
      "metadata": {
        "id": "IvXlqs43AePO"
      },
      "source": [
        "### Step 4: Experiment and Extend\n",
        "\n",
        "Now that you have the basic structure in place:\n",
        "- Experiment with adding additional conditions, such as a condition for \"very cold\" or \"very hot\".\n",
        "- You might even extend your logic to include other weather parameters later.\n",
        "\n",
        "For example, you could add a new condition for extremely cold weather:"
      ]
    },
    {
      "cell_type": "code",
      "execution_count": null,
      "metadata": {
        "id": "dbSwNY6YAePO"
      },
      "outputs": [],
      "source": [
        "if temperature < 5:\n",
        "    print(\"It's freezing – bundle up!\")\n",
        "elif temperature < 15:\n",
        "    print(\"It's cold – wear a jacket!\")\n",
        "elif 15 <= temperature < 25:\n",
        "    print(\"It's warm – enjoy the day!\")\n",
        "else:\n",
        "    print(\"It's hot – stay cool!\")"
      ]
    },
    {
      "cell_type": "markdown",
      "metadata": {
        "id": "jrvB0z9-AePO"
      },
      "source": [
        "> **Tip:** Experimentation is key. Try modifying your conditions and messages to see how the program responds to different temperature values.\n",
        "\n",
        "> **AI Prompt:** If you're looking for further improvements, ask, \"Can you suggest additional weather conditions for a forecast logic using if-else in Python?\""
      ]
    },
    {
      "cell_type": "markdown",
      "metadata": {
        "id": "PxJlG0BbAePO"
      },
      "source": [
        "---\n",
        "\n",
        "## Advanced Challenge (Optional): Revisiting the Rule-Based Chatbot\n",
        "\n",
        "For advanced users and to provide a broader perspective, here’s a reference to the rules-based chatbot you created in Week 1. This chatbot was more dynamic than the simple print()-only version, as it uses user input, a while loop, and if-elif statements to generate responses.\n",
        "\n",
        "### AI-Generated Rule-Based Chatbot\n",
        "\n",
        "Here’s an **AI-generated chatbot script** that takes **user input**, uses **if-elif conditions**, and provides **dynamic responses**—a step up from the print()-only version. Run the code below and see what happens."
      ]
    },
    {
      "cell_type": "code",
      "execution_count": null,
      "metadata": {
        "id": "AGZodv5OAePP"
      },
      "outputs": [],
      "source": [
        "# Simple Rule-Based Chatbot\n",
        "print(\"Welcome to ChatBot 2.0! Type 'bye' to exit.\")\n",
        "\n",
        "while True:\n",
        "    user_input = input(\"\\nYou: \").lower()\n",
        "\n",
        "    if user_input == \"hello\":\n",
        "        print(\"Bot: Hi there! How can I help you today?\")\n",
        "    elif user_input == \"what's your name?\":\n",
        "        print(\"Bot: I'm ChatBot 2.0, your AI-powered assistant!\")\n",
        "    elif user_input == \"what can you do?\":\n",
        "        print(\"Bot: I can answer simple questions and chat with you.\")\n",
        "    elif user_input == \"tell me a joke\":\n",
        "        print(\"Bot: Why don't programmers like nature? Too many bugs! 😂\")\n",
        "    elif user_input == \"bye\":\n",
        "        print(\"Bot: Goodbye! Have a great day!\")\n",
        "        break\n",
        "    else:\n",
        "        print(\"Bot: Sorry, I don’t understand. Can you ask something else?\")"
      ]
    },
    {
      "cell_type": "raw",
      "metadata": {
        "id": "Mmqj2t3FAePP"
      },
      "source": [
        "## Key Differences from the Print()-Only Approach\n",
        "\n",
        "- **Uses `input()`** – The user **interacts dynamically** rather than just reading hardcoded responses.\n",
        "- **Uses a `while` loop** – The program keeps running until the user types `'bye'`.\n",
        "- **Handles conditions with `if-elif` statements** – It provides **different responses** based on the input.\n",
        "- **Normalises input (`lower()`)** – Ensures the interaction is case-insensitive (e.g., \"Hello\" is the same as \"hello\").\n",
        "- **Includes a fallback response** – If the user input isn’t recognised, the bot gives a default response.\n",
        "\n",
        "> **Reflection Tip:**\n",
        "> Compare this advanced rule-based chatbot with the simple print()-only chatbot you created in Week 1. Reflect on how using input(), loops, and conditional statements creates a more interactive and engaging experience.\n",
        "\n",
        "> **AI Prompt:** If you want further clarification, ask, \"Can you explain how these advanced concepts enhance a chatbot compared to a print()-only version?\"\n",
        "\n",
        "> **Note:** This advanced section is optional and is provided to give you insight into how early concepts develop into more dynamic, interactive systems. It is not required for the current activity.\n",
        "\n",
        "---"
      ]
    },
    {
      "cell_type": "markdown",
      "metadata": {
        "id": "Qc5KU2rtAePP"
      },
      "source": [
        "## Reflection\n",
        "\n",
        "- How do the nested if-else statements help in making decisions based on the user's input?\n",
        "- What challenges did you face while converting the input and handling errors?\n",
        "- How might you further improve the logic for a more detailed weather forecast?\n",
        "- How does the advanced rule-based chatbot compare to the simple chatbot from Week 1 in terms of interactivity and code structure?\n",
        "\n",
        "> **Note:** Reflect on these questions to understand how your decision logic works and to identify areas for improvement."
      ]
    },
    {
      "cell_type": "markdown",
      "metadata": {
        "id": "Jqi9EdiWAePP"
      },
      "source": [
        "---\n",
        "\n",
        "## Summary\n",
        "\n",
        "In this activity, you learned to:\n",
        "- Capture a user's menu selection.\n",
        "- Prompt the user for additional input based on their choice.\n",
        "- Use nested if-else statements to compare values and output a weather forecast.\n",
        "- Trace through your code using sample inputs to ensure the logic is sound.\n",
        "\n",
        "> **Tip:** This exercise lays the groundwork for creating more interactive and dynamic weather applications. Continue practising and refining your decision logic to build more robust programs.\n",
        "\n",
        "Happy coding!"
      ]
    }
  ],
  "metadata": {
    "kernelspec": {
      "display_name": "Python 3 (ipykernel)",
      "language": "python",
      "name": "python3"
    },
    "colab": {
      "provenance": [],
      "include_colab_link": true
    }
  },
  "nbformat": 4,
  "nbformat_minor": 0
}